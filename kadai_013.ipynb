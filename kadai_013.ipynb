{
  "nbformat": 4,
  "nbformat_minor": 0,
  "metadata": {
    "colab": {
      "provenance": []
    },
    "kernelspec": {
      "name": "python3",
      "display_name": "Python 3"
    },
    "language_info": {
      "name": "python"
    }
  },
  "cells": [
    {
      "cell_type": "code",
      "execution_count": 8,
      "metadata": {
        "colab": {
          "base_uri": "https://localhost:8080/"
        },
        "id": "-CxKly9FHGbX",
        "outputId": "15eecf00-229f-4edc-9bb9-d5065bb1a9a3"
      },
      "outputs": [
        {
          "output_type": "stream",
          "name": "stdout",
          "text": [
            "商品の金額:500\n",
            "550.0\n"
          ]
        }
      ],
      "source": [
        "def total_price(price, tax):\n",
        "\n",
        "  tax_price = int(price) * tax\n",
        "  total_price = price + tax_price\n",
        "  print(total_price)\n",
        "\n",
        "\n",
        "purchased = True\n",
        "if purchased == True:\n",
        "  price = input(\"商品の金額:\")\n",
        "\n",
        "else:\n",
        "  False\n",
        "\n",
        "\n",
        "\n",
        "tax = 0.1\n",
        "\n",
        "\n",
        "total_price(int(price),tax)"
      ]
    }
  ]
}