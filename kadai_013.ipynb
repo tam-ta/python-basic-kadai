{
  "nbformat": 4,
  "nbformat_minor": 0,
  "metadata": {
    "colab": {
      "provenance": []
    },
    "kernelspec": {
      "name": "python3",
      "display_name": "Python 3"
    },
    "language_info": {
      "name": "python"
    }
  },
  "cells": [
    {
      "cell_type": "code",
      "source": [
        "def total_price(price, tax):\n",
        "  total_price = price + tax_price\n",
        "  print(total_price)\n",
        "\n",
        "price = input(\"商品の金額:\")\n",
        "tax = 0.1\n",
        "tax_price = int(price) * tax\n",
        "\n",
        "\n",
        "total_price(int(price),tax)\n"
      ],
      "metadata": {
        "colab": {
          "base_uri": "https://localhost:8080/"
        },
        "id": "mu1KmkcOqFSD",
        "outputId": "98349ad4-907f-4e62-8a30-1540e4f1b271"
      },
      "execution_count": 26,
      "outputs": [
        {
          "output_type": "stream",
          "name": "stdout",
          "text": [
            "商品の金額:100\n",
            "110.0\n"
          ]
        }
      ]
    }
  ]
}