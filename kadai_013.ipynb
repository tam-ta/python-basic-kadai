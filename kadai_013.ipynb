{
  "nbformat": 4,
  "nbformat_minor": 0,
  "metadata": {
    "colab": {
      "provenance": []
    },
    "kernelspec": {
      "name": "python3",
      "display_name": "Python 3"
    },
    "language_info": {
      "name": "python"
    }
  },
  "cells": [
    {
      "cell_type": "code",
      "source": [
        "def total_price(price, tax):\n",
        "\n",
        "  tax_price = int(price) * tax\n",
        "  total_price = price + tax_price\n",
        "  print(total_price)\n",
        "\n",
        "price = input(\"商品の金額:\")\n",
        "tax = 0.1\n",
        "\n",
        "\n",
        "total_price(int(price),tax)\n"
      ],
      "metadata": {
        "colab": {
          "base_uri": "https://localhost:8080/"
        },
        "id": "mu1KmkcOqFSD",
        "outputId": "dcb81cc1-88d4-40da-f736-96611da0e29c"
      },
      "execution_count": 34,
      "outputs": [
        {
          "output_type": "stream",
          "name": "stdout",
          "text": [
            "商品の金額:500\n",
            "550.0\n"
          ]
        }
      ]
    },
    {
      "cell_type": "code",
      "source": [
        "def show_user_name():\n",
        "  user_name = \"侍太郎\"\n",
        "  print(user_name)\n",
        "\n",
        "show_user_name()\n"
      ],
      "metadata": {
        "colab": {
          "base_uri": "https://localhost:8080/"
        },
        "id": "o1qopG5a1ugN",
        "outputId": "25854eab-05a8-4db8-c9c0-153d19ef859d"
      },
      "execution_count": 32,
      "outputs": [
        {
          "output_type": "stream",
          "name": "stdout",
          "text": [
            "侍太郎\n"
          ]
        }
      ]
    }
  ]
}