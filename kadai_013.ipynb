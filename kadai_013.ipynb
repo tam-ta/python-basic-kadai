{
  "nbformat": 4,
  "nbformat_minor": 0,
  "metadata": {
    "colab": {
      "provenance": []
    },
    "kernelspec": {
      "name": "python3",
      "display_name": "Python 3"
    },
    "language_info": {
      "name": "python"
    }
  },
  "cells": [
    {
      "cell_type": "code",
      "source": [
        "def total_price(price, tax):\n",
        "  tax = 0.1\n",
        "  tax_price = int(price) * tax\n",
        "  total_price = price + tax_price\n",
        "  print(total_price)\n",
        "\n",
        "price = input(\"商品の金額:\")\n",
        "\n",
        "\n",
        "\n",
        "total_price(int(price),tax)\n"
      ],
      "metadata": {
        "colab": {
          "base_uri": "https://localhost:8080/"
        },
        "id": "mu1KmkcOqFSD",
        "outputId": "cf081efc-be5c-4ba8-862f-ef45011134c0"
      },
      "execution_count": 30,
      "outputs": [
        {
          "output_type": "stream",
          "name": "stdout",
          "text": [
            "商品の金額:500\n",
            "550.0\n"
          ]
        }
      ]
    },
    {
      "cell_type": "code",
      "source": [
        "def show_user_name():\n",
        "  user_name = \"侍太郎\"\n",
        "  print(user_name)\n",
        ""
      ],
      "metadata": {
        "id": "o1qopG5a1ugN"
      },
      "execution_count": null,
      "outputs": []
    }
  ]
}