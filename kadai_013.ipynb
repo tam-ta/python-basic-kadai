{
  "nbformat": 4,
  "nbformat_minor": 0,
  "metadata": {
    "colab": {
      "provenance": []
    },
    "kernelspec": {
      "name": "python3",
      "display_name": "Python 3"
    },
    "language_info": {
      "name": "python"
    }
  },
  "cells": [
    {
      "cell_type": "code",
      "execution_count": 21,
      "metadata": {
        "colab": {
          "base_uri": "https://localhost:8080/"
        },
        "id": "-CxKly9FHGbX",
        "outputId": "96ef965e-5ab3-4d42-fe22-060115e28b05"
      },
      "outputs": [
        {
          "name": "stdout",
          "output_type": "stream",
          "text": [
            "商品の金額:500\n"
          ]
        },
        {
          "output_type": "execute_result",
          "data": {
            "text/plain": [
              "550.0"
            ]
          },
          "metadata": {},
          "execution_count": 21
        }
      ],
      "source": [
        "def total_price(price, tax):\n",
        "\n",
        "  tax_price = int(price) * tax\n",
        "  total_price = price + tax_price\n",
        "  return total_price\n",
        "\n",
        "purchased = True\n",
        "if purchased == True:\n",
        "  price = input(\"商品の金額:\")\n",
        "\n",
        "else:\n",
        "  False\n",
        "\n",
        "\n",
        "\n",
        "tax = 0.1\n",
        "\n",
        "\n",
        "total_price(int(price),tax)"
      ]
    }
  ]
}