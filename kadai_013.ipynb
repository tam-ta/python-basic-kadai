{
  "nbformat": 4,
  "nbformat_minor": 0,
  "metadata": {
    "colab": {
      "provenance": []
    },
    "kernelspec": {
      "name": "python3",
      "display_name": "Python 3"
    },
    "language_info": {
      "name": "python"
    }
  },
  "cells": [
    {
      "cell_type": "code",
      "source": [
        "def total_price(price, tax):\n",
        "  total_price = price + price * tax\n",
        "  print(total_price)\n",
        "\n",
        "price = input()\n",
        "tax = 0.1\n",
        "\n",
        "total_price(int(price),0.1)\n"
      ],
      "metadata": {
        "colab": {
          "base_uri": "https://localhost:8080/"
        },
        "id": "mu1KmkcOqFSD",
        "outputId": "bb0018cb-45f9-4efa-ade0-2ec3491b2a86"
      },
      "execution_count": 17,
      "outputs": [
        {
          "output_type": "stream",
          "name": "stdout",
          "text": [
            "100\n",
            "110.0\n"
          ]
        }
      ]
    }
  ]
}