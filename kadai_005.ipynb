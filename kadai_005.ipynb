{
  "nbformat": 4,
  "nbformat_minor": 0,
  "metadata": {
    "colab": {
      "provenance": []
    },
    "kernelspec": {
      "name": "python3",
      "display_name": "Python 3"
    },
    "language_info": {
      "name": "python"
    }
  },
  "cells": [
    {
      "cell_type": "code",
      "source": [
        "top = 20\n",
        "bottom = 10\n",
        "height = 5\n",
        "\n",
        "area = (top+bottom)*height/2\n",
        "print(area+\"cm\")"
      ],
      "metadata": {
        "id": "-5QlBpRhjuLQ"
      },
      "execution_count": null,
      "outputs": []
    }
  ]
}