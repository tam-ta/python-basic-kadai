{
  "nbformat": 4,
  "nbformat_minor": 0,
  "metadata": {
    "colab": {
      "provenance": []
    },
    "kernelspec": {
      "name": "python3",
      "display_name": "Python 3"
    },
    "language_info": {
      "name": "python"
    }
  },
  "cells": [
    {
      "cell_type": "code",
      "source": [
        "top = 20\n",
        "bottom = 10\n",
        "height = 5\n",
        "\n",
        "area = (top+bottom)*height/2\n",
        "print(str(area)+\"cm\")"
      ],
      "metadata": {
        "colab": {
          "base_uri": "https://localhost:8080/"
        },
        "id": "-5QlBpRhjuLQ",
        "outputId": "04e54823-2dd3-4e41-d6ca-79618ddea4d6"
      },
      "execution_count": 4,
      "outputs": [
        {
          "output_type": "stream",
          "name": "stdout",
          "text": [
            "75.0cm\n"
          ]
        }
      ]
    },
    {
      "cell_type": "code",
      "source": [],
      "metadata": {
        "id": "8xH9W8PWJBRv"
      },
      "execution_count": null,
      "outputs": []
    }
  ]
}